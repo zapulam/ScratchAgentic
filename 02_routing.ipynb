{
 "cells": [
  {
   "cell_type": "markdown",
   "metadata": {},
   "source": [
    "# Routing to Different Tools Based on Input"
   ]
  },
  {
   "cell_type": "code",
   "execution_count": null,
   "metadata": {},
   "outputs": [
    {
     "data": {
      "text/plain": [
       "True"
      ]
     },
     "execution_count": 1,
     "metadata": {},
     "output_type": "execute_result"
    }
   ],
   "source": [
    "# Load libraries and env variables\n",
    "import os\n",
    "import logging\n",
    "\n",
    "from datetime import datetime\n",
    "from dotenv import load_dotenv\n",
    "from openai import AzureOpenAI\n",
    "from pydantic import BaseModel, Field\n",
    "from typing import Optional, Literal\n",
    "\n",
    "# Set up logging configuration\n",
    "logging.basicConfig(\n",
    "    level=logging.INFO,\n",
    "    format=\"%(asctime)s - %(levelname)s - %(message)s\",\n",
    "    datefmt=\"%Y-%m-%d %H:%M:%S\",\n",
    ")\n",
    "logger = logging.getLogger(__name__)\n",
    "\n",
    "load_dotenv()"
   ]
  },
  {
   "cell_type": "code",
   "execution_count": 2,
   "metadata": {},
   "outputs": [],
   "source": [
    "# Initialize OpenAI client\n",
    "client = AzureOpenAI(\n",
    "  azure_endpoint = os.getenv(\"AZURE_OPENAI_ENDPOINT\"), \n",
    "  api_key=os.getenv(\"AZURE_OPENAI_API_KEY\"),  \n",
    "  api_version=os.getenv(\"OPENAI_API_VERSION\")\n",
    ")\n",
    "\n",
    "MODEL = os.getenv(\"OPENAI_MODEL\")"
   ]
  },
  {
   "cell_type": "code",
   "execution_count": 3,
   "metadata": {},
   "outputs": [],
   "source": [
    "# Define the data models for routing and responses\n",
    "class CalendarRequestType(BaseModel):\n",
    "    \"\"\"Router LLM call: Determine the type of calendar request\"\"\"\n",
    "\n",
    "    request_type: Literal[\"new_event\", \"modify_event\", \"other\"] = Field(description=\"Type of calendar request being made\")\n",
    "    confidence_score: float = Field(description=\"Confidence score between 0 and 1\")\n",
    "    description: str = Field(description=\"Cleaned description of the request\")\n",
    "\n",
    "\n",
    "class NewEventDetails(BaseModel):\n",
    "    \"\"\"Details for creating a new event\"\"\"\n",
    "\n",
    "    name: str = Field(description=\"Name of the event\")\n",
    "    date: str = Field(description=\"Date and time of the event (ISO 8601)\")\n",
    "    duration_minutes: int = Field(description=\"Duration in minutes\")\n",
    "    participants: list[str] = Field(description=\"List of participants\")\n",
    "\n",
    "\n",
    "class Change(BaseModel):\n",
    "    \"\"\"Details for changing an existing event\"\"\"\n",
    "\n",
    "    field: str = Field(description=\"Field to change\")\n",
    "    new_value: str = Field(description=\"New value for the field\")\n",
    "\n",
    "\n",
    "class ModifyEventDetails(BaseModel):\n",
    "    \"\"\"Details for modifying an existing event\"\"\"\n",
    "\n",
    "    event_identifier: str = Field(description=\"Description to identify the existing event\")\n",
    "    changes: list[Change] = Field(description=\"List of changes to make\")\n",
    "    participants_to_add: list[str] = Field(description=\"New participants to add\")\n",
    "    participants_to_remove: list[str] = Field(description=\"Participants to remove\")\n",
    "\n",
    "\n",
    "class CalendarResponse(BaseModel):\n",
    "    \"\"\"Final response format\"\"\"\n",
    "\n",
    "    success: bool = Field(description=\"Whether the operation was successful\")\n",
    "    message: str = Field(description=\"User-friendly response message\")\n",
    "    calendar_link: Optional[str] = Field(description=\"Calendar link if applicable\")"
   ]
  },
  {
   "cell_type": "code",
   "execution_count": 4,
   "metadata": {},
   "outputs": [],
   "source": [
    "# Define the routing and processing functions\n",
    "def route_calendar_request(user_input: str) -> CalendarRequestType:\n",
    "    \"\"\"Router LLM call to determine the type of calendar request\"\"\"\n",
    "    logger.info(\"Routing calendar request\")\n",
    "\n",
    "    completion = client.beta.chat.completions.parse(\n",
    "        model=MODEL,\n",
    "        messages=[\n",
    "            {\n",
    "                \"role\": \"system\",\n",
    "                \"content\": \"Determine if this is a request to create a new calendar event or modify an existing one.\",\n",
    "            },\n",
    "            {\"role\": \"user\", \"content\": user_input},\n",
    "        ],\n",
    "        response_format=CalendarRequestType,\n",
    "    )\n",
    "    result = completion.choices[0].message.parsed\n",
    "    logger.info(\n",
    "        f\"Request routed as: {result.request_type} with confidence: {result.confidence_score}\"\n",
    "    )\n",
    "    return result\n",
    "\n",
    "\n",
    "def handle_new_event(description: str) -> CalendarResponse:\n",
    "    \"\"\"Process a new event request\"\"\"\n",
    "    logger.info(\"Processing new event request\")\n",
    "\n",
    "    # Get event details\n",
    "    completion = client.beta.chat.completions.parse(\n",
    "        model=MODEL,\n",
    "        messages=[\n",
    "            {\n",
    "                \"role\": \"system\",\n",
    "                \"content\": \"Extract details for creating a new calendar event.\",\n",
    "            },\n",
    "            {\"role\": \"user\", \"content\": description},\n",
    "        ],\n",
    "        response_format=NewEventDetails,\n",
    "    )\n",
    "    details = completion.choices[0].message.parsed\n",
    "\n",
    "    logger.info(f\"New event: {details.model_dump_json(indent=2)}\")\n",
    "\n",
    "    # Generate response\n",
    "    return CalendarResponse(\n",
    "        success=True,\n",
    "        message=f\"Created new event '{details.name}' for {details.date} with {', '.join(details.participants)}\",\n",
    "        calendar_link=f\"calendar://new?event={details.name}\",\n",
    "    )\n",
    "\n",
    "\n",
    "def handle_modify_event(description: str) -> CalendarResponse:\n",
    "    \"\"\"Process an event modification request\"\"\"\n",
    "    logger.info(\"Processing event modification request\")\n",
    "\n",
    "    # Get modification details\n",
    "    completion = client.beta.chat.completions.parse(\n",
    "        model=MODEL,\n",
    "        messages=[\n",
    "            {\n",
    "                \"role\": \"system\",\n",
    "                \"content\": \"Extract details for modifying an existing calendar event.\",\n",
    "            },\n",
    "            {\"role\": \"user\", \"content\": description},\n",
    "        ],\n",
    "        response_format=ModifyEventDetails,\n",
    "    )\n",
    "    details = completion.choices[0].message.parsed\n",
    "\n",
    "    logger.info(f\"Modified event: {details.model_dump_json(indent=2)}\")\n",
    "\n",
    "    # Generate response\n",
    "    return CalendarResponse(\n",
    "        success=True,\n",
    "        message=f\"Modified event '{details.event_identifier}' with the requested changes\",\n",
    "        calendar_link=f\"calendar://modify?event={details.event_identifier}\",\n",
    "    )\n",
    "\n",
    "\n",
    "def process_calendar_request(user_input: str) -> Optional[CalendarResponse]:\n",
    "    \"\"\"Main function implementing the routing workflow\"\"\"\n",
    "    logger.info(\"Processing calendar request\")\n",
    "\n",
    "    # Route the request\n",
    "    route_result = route_calendar_request(user_input)\n",
    "\n",
    "    # Check confidence threshold\n",
    "    if route_result.confidence_score < 0.7:\n",
    "        logger.warning(f\"Low confidence score: {route_result.confidence_score}\")\n",
    "        return None\n",
    "\n",
    "    # Route to appropriate handler\n",
    "    if route_result.request_type == \"new_event\":\n",
    "        return handle_new_event(route_result.description)\n",
    "    elif route_result.request_type == \"modify_event\":\n",
    "        return handle_modify_event(route_result.description)\n",
    "    else:\n",
    "        logger.warning(\"Request type not supported\")\n",
    "        return None"
   ]
  },
  {
   "cell_type": "code",
   "execution_count": 5,
   "metadata": {},
   "outputs": [
    {
     "name": "stderr",
     "output_type": "stream",
     "text": [
      "2025-03-10 16:35:37 - INFO - Processing calendar request\n",
      "2025-03-10 16:35:37 - INFO - Routing calendar request\n",
      "2025-03-10 16:35:38 - INFO - HTTP Request: POST https://aiagenaiinc-oai.openai.azure.com/openai/deployments/gpt-4o-mini/chat/completions?api-version=2024-08-01-preview \"HTTP/1.1 200 OK\"\n",
      "2025-03-10 16:35:38 - INFO - Request routed as: new_event with confidence: 0.95\n",
      "2025-03-10 16:35:38 - INFO - Processing new event request\n",
      "2025-03-10 16:35:39 - INFO - HTTP Request: POST https://aiagenaiinc-oai.openai.azure.com/openai/deployments/gpt-4o-mini/chat/completions?api-version=2024-08-01-preview \"HTTP/1.1 200 OK\"\n",
      "2025-03-10 16:35:39 - INFO - New event: {\n",
      "  \"name\": \"Team Meeting\",\n",
      "  \"date\": \"2023-10-31T14:00:00\",\n",
      "  \"duration_minutes\": 60,\n",
      "  \"participants\": [\n",
      "    \"Alice\",\n",
      "    \"Bob\"\n",
      "  ]\n",
      "}\n"
     ]
    },
    {
     "name": "stdout",
     "output_type": "stream",
     "text": [
      "\n",
      "Response: Created new event 'Team Meeting' for 2023-10-31T14:00:00 with Alice, Bob\n"
     ]
    }
   ],
   "source": [
    "# Test with new event\n",
    "new_event_input = \"Let's schedule a team meeting next Tuesday at 2pm with Alice and Bob\"\n",
    "result = process_calendar_request(new_event_input)\n",
    "if result:\n",
    "    print(f\"\\nResponse: {result.message}\")"
   ]
  },
  {
   "cell_type": "code",
   "execution_count": 6,
   "metadata": {},
   "outputs": [
    {
     "name": "stderr",
     "output_type": "stream",
     "text": [
      "2025-03-10 16:35:41 - INFO - Processing calendar request\n",
      "2025-03-10 16:35:41 - INFO - Routing calendar request\n",
      "2025-03-10 16:35:42 - INFO - HTTP Request: POST https://aiagenaiinc-oai.openai.azure.com/openai/deployments/gpt-4o-mini/chat/completions?api-version=2024-08-01-preview \"HTTP/1.1 200 OK\"\n",
      "2025-03-10 16:35:42 - INFO - Request routed as: modify_event with confidence: 0.95\n",
      "2025-03-10 16:35:42 - INFO - Processing event modification request\n",
      "2025-03-10 16:35:43 - INFO - HTTP Request: POST https://aiagenaiinc-oai.openai.azure.com/openai/deployments/gpt-4o-mini/chat/completions?api-version=2024-08-01-preview \"HTTP/1.1 200 OK\"\n",
      "2025-03-10 16:35:43 - INFO - Modified event: {\n",
      "  \"event_identifier\": \"team meeting with Alice and Bob\",\n",
      "  \"changes\": [\n",
      "    {\n",
      "      \"field\": \"time\",\n",
      "      \"new_value\": \"Wednesday at 3pm\"\n",
      "    }\n",
      "  ],\n",
      "  \"participants_to_add\": [],\n",
      "  \"participants_to_remove\": []\n",
      "}\n"
     ]
    },
    {
     "name": "stdout",
     "output_type": "stream",
     "text": [
      "\n",
      "Response: Modified event 'team meeting with Alice and Bob' with the requested changes\n"
     ]
    }
   ],
   "source": [
    "# Test with modify event\n",
    "modify_event_input = (\n",
    "    \"Can you move the team meeting with Alice and Bob to Wednesday at 3pm instead?\"\n",
    ")\n",
    "result = process_calendar_request(modify_event_input)\n",
    "if result:\n",
    "    print(f\"\\nResponse: {result.message}\")"
   ]
  },
  {
   "cell_type": "code",
   "execution_count": 7,
   "metadata": {},
   "outputs": [
    {
     "name": "stderr",
     "output_type": "stream",
     "text": [
      "2025-03-10 16:35:45 - INFO - Processing calendar request\n",
      "2025-03-10 16:35:45 - INFO - Routing calendar request\n",
      "2025-03-10 16:35:46 - INFO - HTTP Request: POST https://aiagenaiinc-oai.openai.azure.com/openai/deployments/gpt-4o-mini/chat/completions?api-version=2024-08-01-preview \"HTTP/1.1 200 OK\"\n",
      "2025-03-10 16:35:46 - INFO - Request routed as: other with confidence: 0.9\n",
      "2025-03-10 16:35:46 - WARNING - Request type not supported\n"
     ]
    },
    {
     "name": "stdout",
     "output_type": "stream",
     "text": [
      "\n",
      "Request not recognized as a calendar operation\n"
     ]
    }
   ],
   "source": [
    "# Test with invalid request\n",
    "invalid_input = \"What's the weather like today?\"\n",
    "result = process_calendar_request(invalid_input)\n",
    "if not result:\n",
    "    print(\"\\nRequest not recognized as a calendar operation\")"
   ]
  },
  {
   "cell_type": "code",
   "execution_count": null,
   "metadata": {},
   "outputs": [],
   "source": []
  }
 ],
 "metadata": {
  "kernelspec": {
   "display_name": ".venv",
   "language": "python",
   "name": "python3"
  },
  "language_info": {
   "codemirror_mode": {
    "name": "ipython",
    "version": 3
   },
   "file_extension": ".py",
   "mimetype": "text/x-python",
   "name": "python",
   "nbconvert_exporter": "python",
   "pygments_lexer": "ipython3",
   "version": "3.12.7"
  }
 },
 "nbformat": 4,
 "nbformat_minor": 2
}
